{
 "cells": [
  {
   "cell_type": "code",
   "execution_count": null,
   "id": "86b4ad61-9a36-4ac6-b21d-a463bbb906d1",
   "metadata": {},
   "outputs": [],
   "source": [
    "import tweepy\n",
    "import keys\n",
    "from textblob import TextBlob"
   ]
  },
  {
   "cell_type": "code",
   "execution_count": null,
   "id": "77b6564c-7882-4df3-aa60-228c1329360f",
   "metadata": {},
   "outputs": [],
   "source": [
    "import preprocessor as p"
   ]
  },
  {
   "cell_type": "code",
   "execution_count": null,
   "id": "307fac67-f7b7-430a-bc36-d199cf2d45ef",
   "metadata": {},
   "outputs": [],
   "source": [
    "from tweetlistener import TweetListener"
   ]
  },
  {
   "cell_type": "code",
   "execution_count": null,
   "id": "8798217f-c09d-4b09-a8ec-dd3390e72977",
   "metadata": {},
   "outputs": [],
   "source": [
    "import pandas as pd"
   ]
  },
  {
   "cell_type": "code",
   "execution_count": null,
   "id": "8fdefd69",
   "metadata": {},
   "outputs": [],
   "source": [
    "auth = tweepy.OAuthHandler(keys.consumer_key, keys.consumer_secret)\r\n",
    "auth.set_access_token(keys.access_token, keys.access_token_secret)"
   ]
  },
  {
   "cell_type": "code",
   "execution_count": null,
   "id": "0e408720",
   "metadata": {},
   "outputs": [],
   "source": [
    "api = tweepy.API(auth, wait_on_rate_limit=True, wait_on_rate_limit_notify=True)"
   ]
  },
  {
   "cell_type": "code",
   "execution_count": null,
   "id": "931c3f0c",
   "metadata": {},
   "outputs": [],
   "source": [
    "search_key = \"bitcoin\""
   ]
  },
  {
   "cell_type": "code",
   "execution_count": null,
   "id": "868bfd9e",
   "metadata": {},
   "outputs": [],
   "source": [
    "limit = 2"
   ]
  },
  {
   "cell_type": "code",
   "execution_count": null,
   "id": "d824ba07",
   "metadata": {},
   "outputs": [],
   "source": [
    "sentiment_dict = {'positive':0, 'negative':0, 'neutral':0}"
   ]
  },
  {
   "cell_type": "code",
   "execution_count": null,
   "id": "ed6d4c6b",
   "metadata": {},
   "outputs": [],
   "source": [
    "tweet_listener= TweetListener(api, df_tweet, sentiment_dict, search_key, limit)"
   ]
  },
  {
   "cell_type": "code",
   "execution_count": null,
   "id": "1f9c5b90",
   "metadata": {},
   "outputs": [],
   "source": [
    "tweet_stream = tweepy.Stream(auth=api.auth, listener = tweet_listener)"
   ]
  },
  {
   "cell_type": "code",
   "execution_count": null,
   "id": "c059948e",
   "metadata": {},
   "outputs": [],
   "source": [
    "tweet_stream.filter(track=[search_key], languages=['en'], is_async=False)"
   ]
  }
 ],
 "metadata": {
  "kernelspec": {
   "display_name": "Python 3",
   "language": "python",
   "name": "python3"
  },
  "language_info": {
   "codemirror_mode": {
    "name": "ipython",
    "version": 3
   },
   "file_extension": ".py",
   "mimetype": "text/x-python",
   "name": "python",
   "nbconvert_exporter": "python",
   "pygments_lexer": "ipython3",
   "version": "3.8.8"
  }
 },
 "nbformat": 4,
 "nbformat_minor": 5
}
