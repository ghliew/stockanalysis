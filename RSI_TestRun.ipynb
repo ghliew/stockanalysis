{
 "cells": [
  {
   "cell_type": "code",
   "execution_count": 1,
   "id": "b9bc0037-a947-4dbd-95a7-9ac56c0c6766",
   "metadata": {},
   "outputs": [],
   "source": [
    "import stocksutil as su\n",
    "from decimal import *\n",
    "getcontext().prec = 2"
   ]
  },
  {
   "cell_type": "code",
   "execution_count": 2,
   "id": "614911a2-c7d7-4560-963b-23c69adb10d0",
   "metadata": {},
   "outputs": [],
   "source": [
    "ticker = 'AAPL'"
   ]
  },
  {
   "cell_type": "code",
   "execution_count": 3,
   "id": "05323c4b-bb0c-4582-ac0d-32df05b007f1",
   "metadata": {},
   "outputs": [
    {
     "name": "stdout",
     "output_type": "stream",
     "text": [
      "[*********************100%***********************]  1 of 1 completed\n"
     ]
    }
   ],
   "source": [
    "df = su.get_stock_df('AAPL')"
   ]
  },
  {
   "cell_type": "code",
   "execution_count": 4,
   "id": "27458751-fadb-46d6-becb-64531b8874b0",
   "metadata": {},
   "outputs": [
    {
     "data": {
      "text/html": [
       "<div>\n",
       "<style scoped>\n",
       "    .dataframe tbody tr th:only-of-type {\n",
       "        vertical-align: middle;\n",
       "    }\n",
       "\n",
       "    .dataframe tbody tr th {\n",
       "        vertical-align: top;\n",
       "    }\n",
       "\n",
       "    .dataframe thead th {\n",
       "        text-align: right;\n",
       "    }\n",
       "</style>\n",
       "<table border=\"1\" class=\"dataframe\">\n",
       "  <thead>\n",
       "    <tr style=\"text-align: right;\">\n",
       "      <th></th>\n",
       "      <th>Open</th>\n",
       "      <th>High</th>\n",
       "      <th>Low</th>\n",
       "      <th>Close</th>\n",
       "      <th>Adj Close</th>\n",
       "      <th>Volume</th>\n",
       "    </tr>\n",
       "    <tr>\n",
       "      <th>Date</th>\n",
       "      <th></th>\n",
       "      <th></th>\n",
       "      <th></th>\n",
       "      <th></th>\n",
       "      <th></th>\n",
       "      <th></th>\n",
       "    </tr>\n",
       "  </thead>\n",
       "  <tbody>\n",
       "    <tr>\n",
       "      <th>2020-09-21</th>\n",
       "      <td>104.540001</td>\n",
       "      <td>110.190002</td>\n",
       "      <td>103.099998</td>\n",
       "      <td>110.080002</td>\n",
       "      <td>109.376511</td>\n",
       "      <td>195713800</td>\n",
       "    </tr>\n",
       "    <tr>\n",
       "      <th>2020-09-22</th>\n",
       "      <td>112.680000</td>\n",
       "      <td>112.860001</td>\n",
       "      <td>109.160004</td>\n",
       "      <td>111.809998</td>\n",
       "      <td>111.095444</td>\n",
       "      <td>183055400</td>\n",
       "    </tr>\n",
       "    <tr>\n",
       "      <th>2020-09-23</th>\n",
       "      <td>111.620003</td>\n",
       "      <td>112.110001</td>\n",
       "      <td>106.769997</td>\n",
       "      <td>107.120003</td>\n",
       "      <td>106.435432</td>\n",
       "      <td>150718700</td>\n",
       "    </tr>\n",
       "    <tr>\n",
       "      <th>2020-09-24</th>\n",
       "      <td>105.169998</td>\n",
       "      <td>110.250000</td>\n",
       "      <td>105.000000</td>\n",
       "      <td>108.220001</td>\n",
       "      <td>107.528404</td>\n",
       "      <td>167743300</td>\n",
       "    </tr>\n",
       "    <tr>\n",
       "      <th>2020-09-25</th>\n",
       "      <td>108.430000</td>\n",
       "      <td>112.440002</td>\n",
       "      <td>107.669998</td>\n",
       "      <td>112.279999</td>\n",
       "      <td>111.562439</td>\n",
       "      <td>149981400</td>\n",
       "    </tr>\n",
       "    <tr>\n",
       "      <th>...</th>\n",
       "      <td>...</td>\n",
       "      <td>...</td>\n",
       "      <td>...</td>\n",
       "      <td>...</td>\n",
       "      <td>...</td>\n",
       "      <td>...</td>\n",
       "    </tr>\n",
       "    <tr>\n",
       "      <th>2021-09-15</th>\n",
       "      <td>148.559998</td>\n",
       "      <td>149.440002</td>\n",
       "      <td>146.369995</td>\n",
       "      <td>149.029999</td>\n",
       "      <td>149.029999</td>\n",
       "      <td>83281300</td>\n",
       "    </tr>\n",
       "    <tr>\n",
       "      <th>2021-09-16</th>\n",
       "      <td>148.440002</td>\n",
       "      <td>148.970001</td>\n",
       "      <td>147.220001</td>\n",
       "      <td>148.789993</td>\n",
       "      <td>148.789993</td>\n",
       "      <td>68034100</td>\n",
       "    </tr>\n",
       "    <tr>\n",
       "      <th>2021-09-17</th>\n",
       "      <td>148.820007</td>\n",
       "      <td>148.820007</td>\n",
       "      <td>145.759995</td>\n",
       "      <td>146.059998</td>\n",
       "      <td>146.059998</td>\n",
       "      <td>129728700</td>\n",
       "    </tr>\n",
       "    <tr>\n",
       "      <th>2021-09-20</th>\n",
       "      <td>143.800003</td>\n",
       "      <td>144.839996</td>\n",
       "      <td>141.270004</td>\n",
       "      <td>142.940002</td>\n",
       "      <td>142.940002</td>\n",
       "      <td>123304600</td>\n",
       "    </tr>\n",
       "    <tr>\n",
       "      <th>2021-09-21</th>\n",
       "      <td>143.929993</td>\n",
       "      <td>144.600006</td>\n",
       "      <td>142.779999</td>\n",
       "      <td>143.580002</td>\n",
       "      <td>143.580002</td>\n",
       "      <td>34401423</td>\n",
       "    </tr>\n",
       "  </tbody>\n",
       "</table>\n",
       "<p>253 rows × 6 columns</p>\n",
       "</div>"
      ],
      "text/plain": [
       "                  Open        High         Low       Close   Adj Close  \\\n",
       "Date                                                                     \n",
       "2020-09-21  104.540001  110.190002  103.099998  110.080002  109.376511   \n",
       "2020-09-22  112.680000  112.860001  109.160004  111.809998  111.095444   \n",
       "2020-09-23  111.620003  112.110001  106.769997  107.120003  106.435432   \n",
       "2020-09-24  105.169998  110.250000  105.000000  108.220001  107.528404   \n",
       "2020-09-25  108.430000  112.440002  107.669998  112.279999  111.562439   \n",
       "...                ...         ...         ...         ...         ...   \n",
       "2021-09-15  148.559998  149.440002  146.369995  149.029999  149.029999   \n",
       "2021-09-16  148.440002  148.970001  147.220001  148.789993  148.789993   \n",
       "2021-09-17  148.820007  148.820007  145.759995  146.059998  146.059998   \n",
       "2021-09-20  143.800003  144.839996  141.270004  142.940002  142.940002   \n",
       "2021-09-21  143.929993  144.600006  142.779999  143.580002  143.580002   \n",
       "\n",
       "               Volume  \n",
       "Date                   \n",
       "2020-09-21  195713800  \n",
       "2020-09-22  183055400  \n",
       "2020-09-23  150718700  \n",
       "2020-09-24  167743300  \n",
       "2020-09-25  149981400  \n",
       "...               ...  \n",
       "2021-09-15   83281300  \n",
       "2021-09-16   68034100  \n",
       "2021-09-17  129728700  \n",
       "2021-09-20  123304600  \n",
       "2021-09-21   34401423  \n",
       "\n",
       "[253 rows x 6 columns]"
      ]
     },
     "execution_count": 4,
     "metadata": {},
     "output_type": "execute_result"
    }
   ],
   "source": [
    "df"
   ]
  },
  {
   "cell_type": "code",
   "execution_count": 11,
   "id": "59e8a150-567c-4c4b-bec5-db0c2dd12eb3",
   "metadata": {},
   "outputs": [
    {
     "data": {
      "text/plain": [
       "143.5800018310547"
      ]
     },
     "execution_count": 11,
     "metadata": {},
     "output_type": "execute_result"
    }
   ],
   "source": [
    "df['Close'].values[-1]"
   ]
  },
  {
   "cell_type": "code",
   "execution_count": 12,
   "id": "9c5958df-8a88-4477-9f5a-15ad13179691",
   "metadata": {},
   "outputs": [
    {
     "data": {
      "text/plain": [
       "142.94000244140625"
      ]
     },
     "execution_count": 12,
     "metadata": {},
     "output_type": "execute_result"
    }
   ],
   "source": [
    "df['Close'].values[-2]"
   ]
  },
  {
   "cell_type": "code",
   "execution_count": null,
   "id": "6fdb6665-b8fd-4385-9fea-49fc308d8d6e",
   "metadata": {},
   "outputs": [],
   "source": [
    "close"
   ]
  },
  {
   "cell_type": "code",
   "execution_count": null,
   "id": "2f195a7e-fc58-482b-ada8-64704de0f610",
   "metadata": {},
   "outputs": [],
   "source": [
    "open = df.iat[-1, 0]"
   ]
  },
  {
   "cell_type": "code",
   "execution_count": null,
   "id": "13f9b973-1a34-4487-b913-2be33e913c76",
   "metadata": {},
   "outputs": [],
   "source": [
    "open"
   ]
  },
  {
   "cell_type": "code",
   "execution_count": null,
   "id": "fa9fa34f-f36b-47b7-934f-633938d33cf6",
   "metadata": {},
   "outputs": [],
   "source": [
    "change = (open-close)/open * 100"
   ]
  },
  {
   "cell_type": "code",
   "execution_count": null,
   "id": "df5df86d-7166-4e5a-8787-5e8154da6176",
   "metadata": {},
   "outputs": [],
   "source": [
    "change"
   ]
  },
  {
   "cell_type": "code",
   "execution_count": null,
   "id": "5ffae7c1-90d5-44e5-b2e0-15393dbc4adb",
   "metadata": {},
   "outputs": [],
   "source": []
  },
  {
   "cell_type": "code",
   "execution_count": null,
   "id": "b798d30c-b357-4663-aecb-ed836ceb2054",
   "metadata": {},
   "outputs": [],
   "source": [
    "figure = su.get_rsi(df_c)"
   ]
  },
  {
   "cell_type": "code",
   "execution_count": null,
   "id": "e54c891b-668e-4616-a5ff-ce6494151ade",
   "metadata": {},
   "outputs": [],
   "source": []
  }
 ],
 "metadata": {
  "kernelspec": {
   "display_name": "Python 3",
   "language": "python",
   "name": "python3"
  },
  "language_info": {
   "codemirror_mode": {
    "name": "ipython",
    "version": 3
   },
   "file_extension": ".py",
   "mimetype": "text/x-python",
   "name": "python",
   "nbconvert_exporter": "python",
   "pygments_lexer": "ipython3",
   "version": "3.8.8"
  }
 },
 "nbformat": 4,
 "nbformat_minor": 5
}
